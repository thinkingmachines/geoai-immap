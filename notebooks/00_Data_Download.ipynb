{
 "cells": [
  {
   "cell_type": "markdown",
   "metadata": {},
   "source": [
    "# Data Download"
   ]
  },
  {
   "cell_type": "markdown",
   "metadata": {},
   "source": [
    "### How to Install"
   ]
  },
  {
   "cell_type": "markdown",
   "metadata": {
    "jupyter": {
     "source_hidden": true
    }
   },
   "source": [
    "1. Install GEE in GCE by following: https://developers.google.com/earth-engine/python_install-conda\n",
    "\n",
    "  - if encountered jupyter command not found, add conda to path\n",
    "  \n",
    "```\n",
    "    export PATH=~/anaconda3/bin:$PATH\n",
    "```\n",
    "\n",
    "2. Make new kernel to use in jupylab\n",
    "\n",
    "```\n",
    "conda install ipykernel\n",
    "ipython kernel install --name ee --user\n",
    "```\n",
    "\n",
    "3. Update kernel.json with 3.8.2 python (what gee uses)\n",
    "\n",
    "```\n",
    "jupyter kernelspec list\n",
    "vim /home/cholo/.local/share/jupyter/kernels/ee/kernel.json\n",
    "```\n",
    "\n",
    "    - update via vim with this python\n",
    "  \n",
    "```\n",
    "    /home/cholo/anaconda3/envs/ee/bin/python\n",
    "```\n",
    "\n",
    "4. Install gdal\n",
    "\n",
    "```\n",
    "conda activate ee\n",
    "conda install gdal\n",
    "```\n",
    "\n",
    "5. In new notebook from jupylab, select kernel 'ee'\n",
    "\n",
    "To bypass ee.Authenticate, you can run 'earthengine authenticate' in terminal"
   ]
  },
  {
   "cell_type": "markdown",
   "metadata": {},
   "source": [
    "### How to Add New Areas"
   ]
  },
  {
   "cell_type": "markdown",
   "metadata": {
    "jupyter": {
     "source_hidden": true
    }
   },
   "source": [
    "In utils/gee_settings.py\n",
    "1. In 'areas' list, include area, removing spaces i.e. Villa del Rosario > villadelrosario\n",
    "2. In BBOX dict, add bounding box arranged as a list of 4 numbers, upper left and lower right\n",
    "3. In CLOUD_PARAMS dict, specify cloud filter and if will be masked or not\n",
    "4. In admin2RefN, add name in Admin Boundary shapefile\n",
    "\n",
    "Once downloaded file shows in gs://immap-gee\n",
    "1. check if the area is split into multiple files\n",
    "2. If yes, add area to multi-part list in Section Input params"
   ]
  },
  {
   "cell_type": "markdown",
   "metadata": {},
   "source": [
    "## Load tools"
   ]
  },
  {
   "cell_type": "code",
   "execution_count": 1,
   "metadata": {},
   "outputs": [
    {
     "data": {
      "text/html": [
       "<p>To authorize access needed by Earth Engine, open the following\n",
       "        URL in a web browser and follow the instructions:</p>\n",
       "        <p><a href=https://accounts.google.com/o/oauth2/auth?client_id=517222506229-vsmmajv00ul0bs7p89v5m89qs8eb9359.apps.googleusercontent.com&scope=https%3A%2F%2Fwww.googleapis.com%2Fauth%2Fearthengine+https%3A%2F%2Fwww.googleapis.com%2Fauth%2Fdevstorage.full_control&redirect_uri=urn%3Aietf%3Awg%3Aoauth%3A2.0%3Aoob&response_type=code&code_challenge=7CJyPDHHcelKkm1rQx_satPp5-bUNoKqub3AHqWpwwM&code_challenge_method=S256>https://accounts.google.com/o/oauth2/auth?client_id=517222506229-vsmmajv00ul0bs7p89v5m89qs8eb9359.apps.googleusercontent.com&scope=https%3A%2F%2Fwww.googleapis.com%2Fauth%2Fearthengine+https%3A%2F%2Fwww.googleapis.com%2Fauth%2Fdevstorage.full_control&redirect_uri=urn%3Aietf%3Awg%3Aoauth%3A2.0%3Aoob&response_type=code&code_challenge=7CJyPDHHcelKkm1rQx_satPp5-bUNoKqub3AHqWpwwM&code_challenge_method=S256</a></p>\n",
       "        <p>The authorization workflow will generate a code, which you\n",
       "        should paste in the box below</p>\n",
       "        "
      ],
      "text/plain": [
       "<IPython.core.display.HTML object>"
      ]
     },
     "metadata": {},
     "output_type": "display_data"
    },
    {
     "name": "stdin",
     "output_type": "stream",
     "text": [
      "Enter verification code:  4/zQEo1-ZcYGrP-qFqUJ1g3QMH7E6TVqJ7E7xBT1R5aLuPWm1PezxWwcw\n"
     ]
    },
    {
     "name": "stdout",
     "output_type": "stream",
     "text": [
      "\n",
      "Successfully saved authorization token.\n"
     ]
    }
   ],
   "source": [
    "import geopandas as gpd\n",
    "from fiona.crs import to_string\n",
    "import pathlib\n",
    "from tqdm import tqdm\n",
    "\n",
    "import sys\n",
    "sys.path.insert(0, '../utils')\n",
    "from gee import sen2median, deflatecrop1\n",
    "from gee_settings import areas, BBOX, CLOUD_PARAMS, admin2RefN\n",
    "\n",
    "data_dir = \"../data/\""
   ]
  },
  {
   "cell_type": "code",
   "execution_count": 2,
   "metadata": {},
   "outputs": [],
   "source": [
    "adm_dir = data_dir + 'admin_bounds/'\n",
    "img_dir = data_dir + 'images/'\n",
    "tmp_dir = data_dir + 'tmp/'\n",
    "\n",
    "dirs = [adm_dir, img_dir, tmp_dir]\n",
    "for dir_ in dirs:\n",
    "    with pathlib.Path(dir_) as path:\n",
    "        if not path.exists():\n",
    "            path.mkdir(parents=True, exist_ok=True)\n",
    "\n",
    "# get area shape file\n",
    "# !gsutil cp gs://immap-masks/admin_boundaries/admin_bounds.gpkg {adm_dir}\n",
    "gdf = gpd.read_file(adm_dir + 'admin_bounds.gpkg')\n",
    "fcrs = to_string({'init': 'epsg:4326', 'no_defs': True})\n",
    "gdf.crs = fcrs"
   ]
  },
  {
   "cell_type": "markdown",
   "metadata": {},
   "source": [
    "## Input params"
   ]
  },
  {
   "cell_type": "code",
   "execution_count": 37,
   "metadata": {},
   "outputs": [],
   "source": [
    "PRODUCT = 'COPERNICUS/S2' # L1C\n",
    "years = ['2015-2016', '2017-2018', '2019-2020']\n",
    "def get_minmaxdt(year_str):\n",
    "    list_ = year_str.split('-')\n",
    "    return list_[0] + '-01-01', list_[1] + '-12-31'\n",
    "\n",
    "# subset\n",
    "years = ['2015-2016']\n",
    "areas = ['arauca']\n",
    "\n",
    "multipart = ['arauca', 'tibu', 'bogota']"
   ]
  },
  {
   "cell_type": "markdown",
   "metadata": {},
   "source": [
    "## Download from GEE"
   ]
  },
  {
   "cell_type": "code",
   "execution_count": 8,
   "metadata": {},
   "outputs": [
    {
     "name": "stdout",
     "output_type": "stream",
     "text": [
      "Processing gee_arauca_2015-2016\n",
      "using COPERNICUS/S2\n",
      "Filtering to images with cloud cover < 10\n",
      "with no mask\n",
      "Task started\n"
     ]
    }
   ],
   "source": [
    "for area in areas:\n",
    "    for year in years:\n",
    "        cloud_pct, mask = CLOUD_PARAMS[area][year]\n",
    "        min_dt, max_dt = get_minmaxdt(year)\n",
    "        sen2median(\n",
    "            BBOX[area], \n",
    "            FILENAME = f'gee_{area}_{year}', \n",
    "            min_dt = min_dt, \n",
    "            max_dt = max_dt,\n",
    "            cloud_pct = cloud_pct, \n",
    "            mask = mask,\n",
    "            PRODUCT = PRODUCT,\n",
    "            verbose = 0\n",
    "        )"
   ]
  },
  {
   "cell_type": "markdown",
   "metadata": {},
   "source": [
    "## Deflate and crop"
   ]
  },
  {
   "cell_type": "code",
   "execution_count": 4,
   "metadata": {},
   "outputs": [],
   "source": [
    "for area in areas:   \n",
    "    area1 = gdf[gdf['admin2RefN'] == admin2RefN[area]]\n",
    "    area1.to_file(adm_dir + area + '.shp')"
   ]
  },
  {
   "cell_type": "code",
   "execution_count": 38,
   "metadata": {},
   "outputs": [],
   "source": [
    "files_ = []\n",
    "\n",
    "for area in areas:\n",
    "    for year in years:\n",
    "        if area in multipart:\n",
    "            # just get the largest part\n",
    "            files_.append(f'gee_{area}_{year}0000000000-0000000000')\n",
    "        else:\n",
    "            files_.append(f'gee_{area}_{year}')"
   ]
  },
  {
   "cell_type": "code",
   "execution_count": 42,
   "metadata": {},
   "outputs": [
    {
     "name": "stderr",
     "output_type": "stream",
     "text": [
      "100%|██████████| 1/1 [06:29<00:00, 389.49s/it]\n"
     ]
    }
   ],
   "source": [
    "for f in tqdm(files_):\n",
    "    deflatecrop1(\n",
    "        raw_filename = f, \n",
    "        output_dir = img_dir, \n",
    "        adm_dir = adm_dir,\n",
    "        tmp_dir = tmp_dir,\n",
    "        bucket = 'gs://immap-images/20200501/',\n",
    "        clear_local = False\n",
    "    )"
   ]
  },
  {
   "cell_type": "code",
   "execution_count": null,
   "metadata": {},
   "outputs": [],
   "source": []
  },
  {
   "cell_type": "code",
   "execution_count": null,
   "metadata": {},
   "outputs": [],
   "source": []
  },
  {
   "cell_type": "code",
   "execution_count": null,
   "metadata": {},
   "outputs": [],
   "source": []
  },
  {
   "cell_type": "code",
   "execution_count": null,
   "metadata": {},
   "outputs": [],
   "source": []
  },
  {
   "cell_type": "code",
   "execution_count": null,
   "metadata": {},
   "outputs": [],
   "source": []
  }
 ],
 "metadata": {
  "kernelspec": {
   "display_name": "ee",
   "language": "python",
   "name": "ee"
  },
  "language_info": {
   "codemirror_mode": {
    "name": "ipython",
    "version": 3
   },
   "file_extension": ".py",
   "mimetype": "text/x-python",
   "name": "python",
   "nbconvert_exporter": "python",
   "pygments_lexer": "ipython3",
   "version": "3.8.2"
  }
 },
 "nbformat": 4,
 "nbformat_minor": 4
}
